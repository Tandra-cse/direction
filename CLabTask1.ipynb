{
  "nbformat": 4,
  "nbformat_minor": 0,
  "metadata": {
    "colab": {
      "name": "CLabTask1.ipynb",
      "provenance": [],
      "collapsed_sections": [],
      "authorship_tag": "ABX9TyO7S45KahiIJPbnTw4Y5p9c",
      "include_colab_link": true
    },
    "kernelspec": {
      "name": "python3",
      "display_name": "Python 3"
    },
    "language_info": {
      "name": "python"
    }
  },
  "cells": [
    {
      "cell_type": "markdown",
      "metadata": {
        "id": "view-in-github",
        "colab_type": "text"
      },
      "source": [
        "<a href=\"https://colab.research.google.com/github/Tandra-cse/direction/blob/master/CLabTask1.ipynb\" target=\"_parent\"><img src=\"https://colab.research.google.com/assets/colab-badge.svg\" alt=\"Open In Colab\"/></a>"
      ]
    },
    {
      "cell_type": "code",
      "execution_count": 2,
      "metadata": {
        "id": "_dUWIG3fT30N",
        "colab": {
          "base_uri": "https://localhost:8080/"
        },
        "outputId": "d5bbddb7-154e-4ef2-984e-8378992e653b"
      },
      "outputs": [
        {
          "name": "stdout",
          "output_type": "stream",
          "text": [
            "Enter Your equation : 5+7-6/3\n"
          ]
        },
        {
          "output_type": "execute_result",
          "data": {
            "text/plain": [
              "10"
            ]
          },
          "metadata": {},
          "execution_count": 2
        }
      ],
      "source": [
        "def precedence(op):\n",
        "     \n",
        "    if op == '+' or op == '-':\n",
        "        return 1\n",
        "    if op == '*' or op == '/':\n",
        "        return 2\n",
        "    return 0\n",
        " \n",
        "\n",
        "def applyOp(a, b, op):\n",
        "     \n",
        "    if op == '+': return a + b\n",
        "    if op == '-': return a - b\n",
        "    if op == '*': return a * b\n",
        "    if op == '/': return a // b\n",
        " \n",
        "\n",
        "def evaluate(tokens):\n",
        "     \n",
        "    \n",
        "    values = []\n",
        "     \n",
        "  \n",
        "    ops = []\n",
        "    i = 0\n",
        "     \n",
        "    while i < len(tokens):\n",
        "      \n",
        "        if tokens[i] == ' ':\n",
        "            i += 1\n",
        "            continue\n",
        "         \n",
        "      \n",
        "        elif tokens[i] == '(':\n",
        "            ops.append(tokens[i])\n",
        "       \n",
        "        elif tokens[i].isdigit():\n",
        "            val = 0\n",
        "             \n",
        "         \n",
        "            while (i < len(tokens) and\n",
        "                tokens[i].isdigit()):\n",
        "             \n",
        "                val = (val * 10) + int(tokens[i])\n",
        "                i += 1\n",
        "             \n",
        "            values.append(val)\n",
        "            i = i-1\n",
        "      \n",
        "        elif tokens[i] == ')':\n",
        "         \n",
        "            while len(ops) != 0 and ops[-1] != '(':\n",
        "             \n",
        "                val2 = values.pop()\n",
        "                val1 = values.pop()\n",
        "                op = ops.pop()\n",
        "                 \n",
        "                values.append(applyOp(val1, val2, op))\n",
        "             \n",
        "           \n",
        "            ops.pop()\n",
        "         \n",
        "       \n",
        "        else:\n",
        "         \n",
        "            \n",
        "            while (len(ops) != 0 and\n",
        "                precedence(ops[-1]) >=\n",
        "                   precedence(tokens[i])):\n",
        "                         \n",
        "                val2 = values.pop()\n",
        "                val1 = values.pop()\n",
        "                op = ops.pop()\n",
        "                 \n",
        "                values.append(applyOp(val1, val2, op))\n",
        "             \n",
        "           \n",
        "            ops.append(tokens[i])\n",
        "         \n",
        "        i += 1\n",
        "     \n",
        "   \n",
        "    while len(ops) != 0:\n",
        "         \n",
        "        val2 = values.pop()\n",
        "        val1 = values.pop()\n",
        "        op = ops.pop()\n",
        "                 \n",
        "        values.append(applyOp(val1, val2, op))\n",
        "     \n",
        "   \n",
        "    return values[-1]\n",
        " \n",
        "\n",
        "\n",
        "\n",
        "Equation =input(\"Enter Your equation : \")\n",
        "evaluate(Equation)"
      ]
    }
  ]
}